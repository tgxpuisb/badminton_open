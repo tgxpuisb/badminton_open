{
 "cells": [
  {
   "cell_type": "code",
   "execution_count": 5,
   "metadata": {},
   "outputs": [],
   "source": [
    "import trueskill"
   ]
  },
  {
   "cell_type": "code",
   "execution_count": 6,
   "metadata": {},
   "outputs": [
    {
     "name": "stdout",
     "output_type": "stream",
     "text": [
      "trueskill.Rating(mu=3000.000, sigma=6.250) trueskill.Rating(mu=2500.000, sigma=6.250) trueskill.Rating(mu=2000.000, sigma=6.250) trueskill.Rating(mu=1500.000, sigma=6.250)\n"
     ]
    }
   ],
   "source": [
    "# 初始化\n",
    "ts = trueskill.TrueSkill(draw_probability=0, backend='mpmath', sigma=25/4)\n",
    "\n",
    "p1 = ts.create_rating(mu=6.0*500)\n",
    "p2 = ts.create_rating(mu=5.0*500)\n",
    "p3 = ts.create_rating(mu=4.0*500)\n",
    "p4 = ts.create_rating(mu=3.0*500)\n",
    "\n",
    "print(p1,p2,p3,p4)"
   ]
  },
  {
   "cell_type": "code",
   "execution_count": 7,
   "metadata": {},
   "outputs": [],
   "source": [
    "teams = [(p1, p3), (p2, p4)]"
   ]
  },
  {
   "cell_type": "code",
   "execution_count": 8,
   "metadata": {},
   "outputs": [
    {
     "name": "stdout",
     "output_type": "stream",
     "text": [
      "trueskill.Rating(mu=2826.875, sigma=5.684) trueskill.Rating(mu=2673.125, sigma=5.684) trueskill.Rating(mu=1826.875, sigma=5.684) trueskill.Rating(mu=1673.125, sigma=5.684)\n"
     ]
    }
   ],
   "source": [
    "rankings = [1, 0]\n",
    "teams = ts.rate(teams, ranks=rankings)\n",
    "\n",
    "p1, p3 = teams[0]\n",
    "p2, p4 = teams[1]\n",
    "\n",
    "print(p1,p2,p3,p4)"
   ]
  }
 ],
 "metadata": {
  "kernelspec": {
   "display_name": "base",
   "language": "python",
   "name": "python3"
  },
  "language_info": {
   "codemirror_mode": {
    "name": "ipython",
    "version": 3
   },
   "file_extension": ".py",
   "mimetype": "text/x-python",
   "name": "python",
   "nbconvert_exporter": "python",
   "pygments_lexer": "ipython3",
   "version": "3.11.7"
  }
 },
 "nbformat": 4,
 "nbformat_minor": 2
}
